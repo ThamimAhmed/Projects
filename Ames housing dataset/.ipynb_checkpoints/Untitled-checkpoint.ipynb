{
 "cells": [
  {
   "cell_type": "markdown",
   "id": "39576fe4",
   "metadata": {},
   "source": [
    "# House price prediction calculator\n",
    "## Created by Mohammed Thamim Ahmed"
   ]
  },
  {
   "cell_type": "markdown",
   "id": "abaeb36f",
   "metadata": {},
   "source": [
    "### Importing all relevant libraries"
   ]
  },
  {
   "cell_type": "code",
   "execution_count": 34,
   "id": "81fd7d37",
   "metadata": {},
   "outputs": [],
   "source": [
    "import pandas as pd\n",
    "\n",
    "import numpy as np\n",
    "\n",
    "import matplotlib.pyplot as plt\n",
    "\n",
    "import seaborn as sns\n",
    "\n",
    "from sklearn.model_selection import train_test_split\n",
    "from sklearn.preprocessing import StandardScaler, OneHotEncoder\n",
    "from sklearn.impute import SimpleImputer\n",
    "from sklearn.ensemble import RandomForestRegressor\n",
    "from sklearn.linear_model import LinearRegression\n",
    "from sklearn.metrics import mean_absolute_error, mean_squared_error, r2_score\n",
    "\n",
    "import joblib\n",
    "\n",
    "import warnings"
   ]
  },
  {
   "cell_type": "markdown",
   "id": "29aed2a2",
   "metadata": {},
   "source": [
    "### Loading and Exploring the Data"
   ]
  },
  {
   "cell_type": "markdown",
   "id": "1809d245",
   "metadata": {},
   "source": [
    "#### Checking Dataset Structure"
   ]
  },
  {
   "cell_type": "code",
   "execution_count": 35,
   "id": "3ea4b9c7",
   "metadata": {},
   "outputs": [
    {
     "name": "stdout",
     "output_type": "stream",
     "text": [
      "<bound method DataFrame.info of       Order        PID  MS SubClass MS Zoning  Lot Frontage  Lot Area Street  \\\n",
      "0         1  526301100           20        RL         141.0     31770   Pave   \n",
      "1         2  526350040           20        RH          80.0     11622   Pave   \n",
      "2         3  526351010           20        RL          81.0     14267   Pave   \n",
      "3         4  526353030           20        RL          93.0     11160   Pave   \n",
      "4         5  527105010           60        RL          74.0     13830   Pave   \n",
      "...     ...        ...          ...       ...           ...       ...    ...   \n",
      "2925   2926  923275080           80        RL          37.0      7937   Pave   \n",
      "2926   2927  923276100           20        RL           NaN      8885   Pave   \n",
      "2927   2928  923400125           85        RL          62.0     10441   Pave   \n",
      "2928   2929  924100070           20        RL          77.0     10010   Pave   \n",
      "2929   2930  924151050           60        RL          74.0      9627   Pave   \n",
      "\n",
      "     Alley Lot Shape Land Contour  ... Pool Area Pool QC  Fence Misc Feature  \\\n",
      "0      NaN       IR1          Lvl  ...         0     NaN    NaN          NaN   \n",
      "1      NaN       Reg          Lvl  ...         0     NaN  MnPrv          NaN   \n",
      "2      NaN       IR1          Lvl  ...         0     NaN    NaN         Gar2   \n",
      "3      NaN       Reg          Lvl  ...         0     NaN    NaN          NaN   \n",
      "4      NaN       IR1          Lvl  ...         0     NaN  MnPrv          NaN   \n",
      "...    ...       ...          ...  ...       ...     ...    ...          ...   \n",
      "2925   NaN       IR1          Lvl  ...         0     NaN  GdPrv          NaN   \n",
      "2926   NaN       IR1          Low  ...         0     NaN  MnPrv          NaN   \n",
      "2927   NaN       Reg          Lvl  ...         0     NaN  MnPrv         Shed   \n",
      "2928   NaN       Reg          Lvl  ...         0     NaN    NaN          NaN   \n",
      "2929   NaN       Reg          Lvl  ...         0     NaN    NaN          NaN   \n",
      "\n",
      "     Misc Val Mo Sold Yr Sold Sale Type  Sale Condition  SalePrice  \n",
      "0           0       5    2010       WD           Normal     215000  \n",
      "1           0       6    2010       WD           Normal     105000  \n",
      "2       12500       6    2010       WD           Normal     172000  \n",
      "3           0       4    2010       WD           Normal     244000  \n",
      "4           0       3    2010       WD           Normal     189900  \n",
      "...       ...     ...     ...       ...             ...        ...  \n",
      "2925        0       3    2006       WD           Normal     142500  \n",
      "2926        0       6    2006       WD           Normal     131000  \n",
      "2927      700       7    2006       WD           Normal     132000  \n",
      "2928        0       4    2006       WD           Normal     170000  \n",
      "2929        0      11    2006       WD           Normal     188000  \n",
      "\n",
      "[2930 rows x 82 columns]>\n",
      "   Order        PID  MS SubClass MS Zoning  Lot Frontage  Lot Area Street  \\\n",
      "0      1  526301100           20        RL         141.0     31770   Pave   \n",
      "1      2  526350040           20        RH          80.0     11622   Pave   \n",
      "2      3  526351010           20        RL          81.0     14267   Pave   \n",
      "3      4  526353030           20        RL          93.0     11160   Pave   \n",
      "4      5  527105010           60        RL          74.0     13830   Pave   \n",
      "\n",
      "  Alley Lot Shape Land Contour  ... Pool Area Pool QC  Fence Misc Feature  \\\n",
      "0   NaN       IR1          Lvl  ...         0     NaN    NaN          NaN   \n",
      "1   NaN       Reg          Lvl  ...         0     NaN  MnPrv          NaN   \n",
      "2   NaN       IR1          Lvl  ...         0     NaN    NaN         Gar2   \n",
      "3   NaN       Reg          Lvl  ...         0     NaN    NaN          NaN   \n",
      "4   NaN       IR1          Lvl  ...         0     NaN  MnPrv          NaN   \n",
      "\n",
      "  Misc Val Mo Sold Yr Sold Sale Type  Sale Condition  SalePrice  \n",
      "0        0       5    2010       WD           Normal     215000  \n",
      "1        0       6    2010       WD           Normal     105000  \n",
      "2    12500       6    2010       WD           Normal     172000  \n",
      "3        0       4    2010       WD           Normal     244000  \n",
      "4        0       3    2010       WD           Normal     189900  \n",
      "\n",
      "[5 rows x 82 columns]\n"
     ]
    }
   ],
   "source": [
    "df = pd.read_csv(\"AmesHousing.csv\")\n",
    "print(df.info)\n",
    "print(df.head())"
   ]
  },
  {
   "cell_type": "markdown",
   "id": "21354b9e",
   "metadata": {},
   "source": [
    "#### Identifying missing values"
   ]
  },
  {
   "cell_type": "code",
   "execution_count": 36,
   "id": "f8f2c4ee",
   "metadata": {},
   "outputs": [
    {
     "name": "stdout",
     "output_type": "stream",
     "text": [
      "Pool QC           2917\n",
      "Misc Feature      2824\n",
      "Alley             2732\n",
      "Fence             2358\n",
      "Mas Vnr Type      1775\n",
      "Fireplace Qu      1422\n",
      "Lot Frontage       490\n",
      "Garage Cond        159\n",
      "Garage Finish      159\n",
      "Garage Yr Blt      159\n",
      "Garage Qual        159\n",
      "Garage Type        157\n",
      "Bsmt Exposure       83\n",
      "BsmtFin Type 2      81\n",
      "Bsmt Qual           80\n",
      "Bsmt Cond           80\n",
      "BsmtFin Type 1      80\n",
      "Mas Vnr Area        23\n",
      "Bsmt Full Bath       2\n",
      "Bsmt Half Bath       2\n",
      "BsmtFin SF 1         1\n",
      "Garage Cars          1\n",
      "Electrical           1\n",
      "Total Bsmt SF        1\n",
      "Bsmt Unf SF          1\n",
      "BsmtFin SF 2         1\n",
      "Garage Area          1\n",
      "dtype: int64\n"
     ]
    }
   ],
   "source": [
    "missing_values = df.isnull().sum().sort_values(ascending = False)\n",
    "print(missing_values[missing_values > 0])"
   ]
  },
  {
   "cell_type": "markdown",
   "id": "cf6ee33f",
   "metadata": {},
   "source": [
    "#### Visualising the target variable (In this example: SalePrice distribution)"
   ]
  },
  {
   "cell_type": "code",
   "execution_count": 37,
   "id": "476e9133",
   "metadata": {},
   "outputs": [
    {
     "data": {
      "image/png": "[encoded data removed]",
      "text/plain": [
       "<Figure size 800x500 with 1 Axes>"
      ]
     },
     "metadata": {},
     "output_type": "display_data"
    }
   ],
   "source": [
    "plt.figure(figsize=(8,5))\n",
    "sns.histplot(df[\"SalePrice\"], kde=True)\n",
    "plt.title(\"Distribution of Sale Prices\")\n",
    "plt.show()"
   ]
  },
  {
   "cell_type": "markdown",
   "id": "e622eef1",
   "metadata": {},
   "source": [
    "### Cleaning and Preparing Data"
   ]
  },
  {
   "cell_type": "markdown",
   "id": "11671055",
   "metadata": {},
   "source": [
    "#### Dropping irrelevant or highly missing features"
   ]
  },
  {
   "cell_type": "code",
   "execution_count": 38,
   "id": "517d9fe4",
   "metadata": {},
   "outputs": [
    {
     "data": {
      "text/html": [
       "<div>\n",
       "<style scoped>\n",
       "    .dataframe tbody tr th:only-of-type {\n",
       "        vertical-align: middle;\n",
       "    }\n",
       "\n",
       "    .dataframe tbody tr th {\n",
       "        vertical-align: top;\n",
       "    }\n",
       "\n",
       "    .dataframe thead th {\n",
       "        text-align: right;\n",
       "    }\n",
       "</style>\n",
       "<table border=\"1\" class=\"dataframe\">\n",
       "  <thead>\n",
       "    <tr style=\"text-align: right;\">\n",
       "      <th></th>\n",
       "      <th>Order</th>\n",
       "      <th>PID</th>\n",
       "      <th>MS SubClass</th>\n",
       "      <th>MS Zoning</th>\n",
       "      <th>Lot Frontage</th>\n",
       "      <th>Lot Area</th>\n",
       "      <th>Street</th>\n",
       "      <th>Lot Shape</th>\n",
       "      <th>Land Contour</th>\n",
       "      <th>Utilities</th>\n",
       "      <th>...</th>\n",
       "      <th>Enclosed Porch</th>\n",
       "      <th>3Ssn Porch</th>\n",
       "      <th>Screen Porch</th>\n",
       "      <th>Pool Area</th>\n",
       "      <th>Misc Val</th>\n",
       "      <th>Mo Sold</th>\n",
       "      <th>Yr Sold</th>\n",
       "      <th>Sale Type</th>\n",
       "      <th>Sale Condition</th>\n",
       "      <th>SalePrice</th>\n",
       "    </tr>\n",
       "  </thead>\n",
       "  <tbody>\n",
       "    <tr>\n",
       "      <th>0</th>\n",
       "      <td>1</td>\n",
       "      <td>526301100</td>\n",
       "      <td>20</td>\n",
       "      <td>RL</td>\n",
       "      <td>141.0</td>\n",
       "      <td>31770</td>\n",
       "      <td>Pave</td>\n",
       "      <td>IR1</td>\n",
       "      <td>Lvl</td>\n",
       "      <td>AllPub</td>\n",
       "      <td>...</td>\n",
       "      <td>0</td>\n",
       "      <td>0</td>\n",
       "      <td>0</td>\n",
       "      <td>0</td>\n",
       "      <td>0</td>\n",
       "      <td>5</td>\n",
       "      <td>2010</td>\n",
       "      <td>WD</td>\n",
       "      <td>Normal</td>\n",
       "      <td>215000</td>\n",
       "    </tr>\n",
       "    <tr>\n",
       "      <th>1</th>\n",
       "      <td>2</td>\n",
       "      <td>526350040</td>\n",
       "      <td>20</td>\n",
       "      <td>RH</td>\n",
       "      <td>80.0</td>\n",
       "      <td>11622</td>\n",
       "      <td>Pave</td>\n",
       "      <td>Reg</td>\n",
       "      <td>Lvl</td>\n",
       "      <td>AllPub</td>\n",
       "      <td>...</td>\n",
       "      <td>0</td>\n",
       "      <td>0</td>\n",
       "      <td>120</td>\n",
       "      <td>0</td>\n",
       "      <td>0</td>\n",
       "      <td>6</td>\n",
       "      <td>2010</td>\n",
       "      <td>WD</td>\n",
       "      <td>Normal</td>\n",
       "      <td>105000</td>\n",
       "    </tr>\n",
       "    <tr>\n",
       "      <th>2</th>\n",
       "      <td>3</td>\n",
       "      <td>526351010</td>\n",
       "      <td>20</td>\n",
       "      <td>RL</td>\n",
       "      <td>81.0</td>\n",
       "      <td>14267</td>\n",
       "      <td>Pave</td>\n",
       "      <td>IR1</td>\n",
       "      <td>Lvl</td>\n",
       "      <td>AllPub</td>\n",
       "      <td>...</td>\n",
       "      <td>0</td>\n",
       "      <td>0</td>\n",
       "      <td>0</td>\n",
       "      <td>0</td>\n",
       "      <td>12500</td>\n",
       "      <td>6</td>\n",
       "      <td>2010</td>\n",
       "      <td>WD</td>\n",
       "      <td>Normal</td>\n",
       "      <td>172000</td>\n",
       "    </tr>\n",
       "    <tr>\n",
       "      <th>3</th>\n",
       "      <td>4</td>\n",
       "      <td>526353030</td>\n",
       "      <td>20</td>\n",
       "      <td>RL</td>\n",
       "      <td>93.0</td>\n",
       "      <td>11160</td>\n",
       "      <td>Pave</td>\n",
       "      <td>Reg</td>\n",
       "      <td>Lvl</td>\n",
       "      <td>AllPub</td>\n",
       "      <td>...</td>\n",
       "      <td>0</td>\n",
       "      <td>0</td>\n",
       "      <td>0</td>\n",
       "      <td>0</td>\n",
       "      <td>0</td>\n",
       "      <td>4</td>\n",
       "      <td>2010</td>\n",
       "      <td>WD</td>\n",
       "      <td>Normal</td>\n",
       "      <td>244000</td>\n",
       "    </tr>\n",
       "    <tr>\n",
       "      <th>4</th>\n",
       "      <td>5</td>\n",
       "      <td>527105010</td>\n",
       "      <td>60</td>\n",
       "      <td>RL</td>\n",
       "      <td>74.0</td>\n",
       "      <td>13830</td>\n",
       "      <td>Pave</td>\n",
       "      <td>IR1</td>\n",
       "      <td>Lvl</td>\n",
       "      <td>AllPub</td>\n",
       "      <td>...</td>\n",
       "      <td>0</td>\n",
       "      <td>0</td>\n",
       "      <td>0</td>\n",
       "      <td>0</td>\n",
       "      <td>0</td>\n",
       "      <td>3</td>\n",
       "      <td>2010</td>\n",
       "      <td>WD</td>\n",
       "      <td>Normal</td>\n",
       "      <td>189900</td>\n",
       "    </tr>\n",
       "    <tr>\n",
       "      <th>...</th>\n",
       "      <td>...</td>\n",
       "      <td>...</td>\n",
       "      <td>...</td>\n",
       "      <td>...</td>\n",
       "      <td>...</td>\n",
       "      <td>...</td>\n",
       "      <td>...</td>\n",
       "      <td>...</td>\n",
       "      <td>...</td>\n",
       "      <td>...</td>\n",
       "      <td>...</td>\n",
       "      <td>...</td>\n",
       "      <td>...</td>\n",
       "      <td>...</td>\n",
       "      <td>...</td>\n",
       "      <td>...</td>\n",
       "      <td>...</td>\n",
       "      <td>...</td>\n",
       "      <td>...</td>\n",
       "      <td>...</td>\n",
       "      <td>...</td>\n",
       "    </tr>\n",
       "    <tr>\n",
       "      <th>2925</th>\n",
       "      <td>2926</td>\n",
       "      <td>923275080</td>\n",
       "      <td>80</td>\n",
       "      <td>RL</td>\n",
       "      <td>37.0</td>\n",
       "      <td>7937</td>\n",
       "      <td>Pave</td>\n",
       "      <td>IR1</td>\n",
       "      <td>Lvl</td>\n",
       "      <td>AllPub</td>\n",
       "      <td>...</td>\n",
       "      <td>0</td>\n",
       "      <td>0</td>\n",
       "      <td>0</td>\n",
       "      <td>0</td>\n",
       "      <td>0</td>\n",
       "      <td>3</td>\n",
       "      <td>2006</td>\n",
       "      <td>WD</td>\n",
       "      <td>Normal</td>\n",
       "      <td>142500</td>\n",
       "    </tr>\n",
       "    <tr>\n",
       "      <th>2926</th>\n",
       "      <td>2927</td>\n",
       "      <td>923276100</td>\n",
       "      <td>20</td>\n",
       "      <td>RL</td>\n",
       "      <td>NaN</td>\n",
       "      <td>8885</td>\n",
       "      <td>Pave</td>\n",
       "      <td>IR1</td>\n",
       "      <td>Low</td>\n",
       "      <td>AllPub</td>\n",
       "      <td>...</td>\n",
       "      <td>0</td>\n",
       "      <td>0</td>\n",
       "      <td>0</td>\n",
       "      <td>0</td>\n",
       "      <td>0</td>\n",
       "      <td>6</td>\n",
       "      <td>2006</td>\n",
       "      <td>WD</td>\n",
       "      <td>Normal</td>\n",
       "      <td>131000</td>\n",
       "    </tr>\n",
       "    <tr>\n",
       "      <th>2927</th>\n",
       "      <td>2928</td>\n",
       "      <td>923400125</td>\n",
       "      <td>85</td>\n",
       "      <td>RL</td>\n",
       "      <td>62.0</td>\n",
       "      <td>10441</td>\n",
       "      <td>Pave</td>\n",
       "      <td>Reg</td>\n",
       "      <td>Lvl</td>\n",
       "      <td>AllPub</td>\n",
       "      <td>...</td>\n",
       "      <td>0</td>\n",
       "      <td>0</td>\n",
       "      <td>0</td>\n",
       "      <td>0</td>\n",
       "      <td>700</td>\n",
       "      <td>7</td>\n",
       "      <td>2006</td>\n",
       "      <td>WD</td>\n",
       "      <td>Normal</td>\n",
       "      <td>132000</td>\n",
       "    </tr>\n",
       "    <tr>\n",
       "      <th>2928</th>\n",
       "      <td>2929</td>\n",
       "      <td>924100070</td>\n",
       "      <td>20</td>\n",
       "      <td>RL</td>\n",
       "      <td>77.0</td>\n",
       "      <td>10010</td>\n",
       "      <td>Pave</td>\n",
       "      <td>Reg</td>\n",
       "      <td>Lvl</td>\n",
       "      <td>AllPub</td>\n",
       "      <td>...</td>\n",
       "      <td>0</td>\n",
       "      <td>0</td>\n",
       "      <td>0</td>\n",
       "      <td>0</td>\n",
       "      <td>0</td>\n",
       "      <td>4</td>\n",
       "      <td>2006</td>\n",
       "      <td>WD</td>\n",
       "      <td>Normal</td>\n",
       "      <td>170000</td>\n",
       "    </tr>\n",
       "    <tr>\n",
       "      <th>2929</th>\n",
       "      <td>2930</td>\n",
       "      <td>924151050</td>\n",
       "      <td>60</td>\n",
       "      <td>RL</td>\n",
       "      <td>74.0</td>\n",
       "      <td>9627</td>\n",
       "      <td>Pave</td>\n",
       "      <td>Reg</td>\n",
       "      <td>Lvl</td>\n",
       "      <td>AllPub</td>\n",
       "      <td>...</td>\n",
       "      <td>0</td>\n",
       "      <td>0</td>\n",
       "      <td>0</td>\n",
       "      <td>0</td>\n",
       "      <td>0</td>\n",
       "      <td>11</td>\n",
       "      <td>2006</td>\n",
       "      <td>WD</td>\n",
       "      <td>Normal</td>\n",
       "      <td>188000</td>\n",
       "    </tr>\n",
       "  </tbody>\n",
       "</table>\n",
       "<p>2930 rows × 78 columns</p>\n",
       "</div>"
      ],
      "text/plain": [
       "      Order        PID  MS SubClass MS Zoning  Lot Frontage  Lot Area Street  \\\n",
       "0         1  526301100           20        RL         141.0     31770   Pave   \n",
       "1         2  526350040           20        RH          80.0     11622   Pave   \n",
       "2         3  526351010           20        RL          81.0     14267   Pave   \n",
       "3         4  526353030           20        RL          93.0     11160   Pave   \n",
       "4         5  527105010           60        RL          74.0     13830   Pave   \n",
       "...     ...        ...          ...       ...           ...       ...    ...   \n",
       "2925   2926  923275080           80        RL          37.0      7937   Pave   \n",
       "2926   2927  923276100           20        RL           NaN      8885   Pave   \n",
       "2927   2928  923400125           85        RL          62.0     10441   Pave   \n",
       "2928   2929  924100070           20        RL          77.0     10010   Pave   \n",
       "2929   2930  924151050           60        RL          74.0      9627   Pave   \n",
       "\n",
       "     Lot Shape Land Contour Utilities  ... Enclosed Porch 3Ssn Porch  \\\n",
       "0          IR1          Lvl    AllPub  ...              0          0   \n",
       "1          Reg          Lvl    AllPub  ...              0          0   \n",
       "2          IR1          Lvl    AllPub  ...              0          0   \n",
       "3          Reg          Lvl    AllPub  ...              0          0   \n",
       "4          IR1          Lvl    AllPub  ...              0          0   \n",
       "...        ...          ...       ...  ...            ...        ...   \n",
       "2925       IR1          Lvl    AllPub  ...              0          0   \n",
       "2926       IR1          Low    AllPub  ...              0          0   \n",
       "2927       Reg          Lvl    AllPub  ...              0          0   \n",
       "2928       Reg          Lvl    AllPub  ...              0          0   \n",
       "2929       Reg          Lvl    AllPub  ...              0          0   \n",
       "\n",
       "     Screen Porch Pool Area Misc Val Mo Sold Yr Sold  Sale Type  \\\n",
       "0               0         0        0       5    2010        WD    \n",
       "1             120         0        0       6    2010        WD    \n",
       "2               0         0    12500       6    2010        WD    \n",
       "3               0         0        0       4    2010        WD    \n",
       "4               0         0        0       3    2010        WD    \n",
       "...           ...       ...      ...     ...     ...        ...   \n",
       "2925            0         0        0       3    2006        WD    \n",
       "2926            0         0        0       6    2006        WD    \n",
       "2927            0         0      700       7    2006        WD    \n",
       "2928            0         0        0       4    2006        WD    \n",
       "2929            0         0        0      11    2006        WD    \n",
       "\n",
       "      Sale Condition  SalePrice  \n",
       "0             Normal     215000  \n",
       "1             Normal     105000  \n",
       "2             Normal     172000  \n",
       "3             Normal     244000  \n",
       "4             Normal     189900  \n",
       "...              ...        ...  \n",
       "2925          Normal     142500  \n",
       "2926          Normal     131000  \n",
       "2927          Normal     132000  \n",
       "2928          Normal     170000  \n",
       "2929          Normal     188000  \n",
       "\n",
       "[2930 rows x 78 columns]"
      ]
     },
     "execution_count": 38,
     "metadata": {},
     "output_type": "execute_result"
    }
   ],
   "source": [
    "df.drop(columns=[\"Pool QC\", \"Misc Feature\", \"Alley\", \"Fence\"])"
   ]
  },
  {
   "cell_type": "markdown",
   "id": "6e28e0c9",
   "metadata": {},
   "source": [
    "#### Filling in missing numerical values with median"
   ]
  },
  {
   "cell_type": "code",
   "execution_count": 39,
   "id": "178ecf29",
   "metadata": {},
   "outputs": [],
   "source": [
    "num_imputer = SimpleImputer(strategy = \"median\")\n",
    "num_cols = df.select_dtypes(include=[\"int64\",\"float64\"]).columns\n",
    "df[num_cols] = num_imputer.fit_transform(df[num_cols])"
   ]
  },
  {
   "cell_type": "markdown",
   "id": "c3a294ed",
   "metadata": {},
   "source": [
    "#### Filling missing categorical values with the most frequent value"
   ]
  },
  {
   "cell_type": "code",
   "execution_count": 40,
   "id": "13931892",
   "metadata": {},
   "outputs": [],
   "source": [
    "cat_imputer = SimpleImputer(strategy = \"most_frequent\")\n",
    "cat_cols = df.select_dtypes(include=[\"object\"]).columns\n",
    "df[cat_cols] = cat_imputer.fit_transform(df[cat_cols])"
   ]
  },
  {
   "cell_type": "markdown",
   "id": "4192d75a",
   "metadata": {},
   "source": [
    "####  Converting categorical variables into numerical form (One-hot Encoding)"
   ]
  },
  {
   "cell_type": "code",
   "execution_count": 41,
   "id": "2d46eaab",
   "metadata": {},
   "outputs": [],
   "source": [
    "df = pd.get_dummies(df, drop_first = True)"
   ]
  },
  {
   "cell_type": "markdown",
   "id": "84ad646f",
   "metadata": {},
   "source": [
    "### Feature Selection and Data Splitting"
   ]
  },
  {
   "cell_type": "markdown",
   "id": "cb3bb339",
   "metadata": {},
   "source": [
    "#### Selecting best feature based on correlation"
   ]
  },
  {
   "cell_type": "code",
   "execution_count": 42,
   "id": "596ff1a1",
   "metadata": {},
   "outputs": [],
   "source": [
    "best_features = [\"Overall Qual\", \"Gr Liv Area\", \"Garage Cars\", \"Total Bsmt SF\", \"Year Built\"]\n",
    "X = df[best_features]\n",
    "y = df[\"SalePrice\"]"
   ]
  },
  {
   "cell_type": "markdown",
   "id": "b8111e9b",
   "metadata": {},
   "source": [
    "#### Split data into training and testing sets"
   ]
  },
  {
   "cell_type": "code",
   "execution_count": 43,
   "id": "05666ca1",
   "metadata": {},
   "outputs": [],
   "source": [
    "X_train, X_test, y_train, y_test = train_test_split(X, y, test_size = 0.2, random_state = 42)"
   ]
  },
  {
   "cell_type": "markdown",
   "id": "8ef83635",
   "metadata": {},
   "source": [
    "### Training a model (Linear Regression)"
   ]
  },
  {
   "cell_type": "code",
   "execution_count": 44,
   "id": "ed418b33",
   "metadata": {},
   "outputs": [
    {
     "data": {
      "text/html": [
       "<style>#sk-container-id-2 {color: black;}#sk-container-id-2 pre{padding: 0;}#sk-container-id-2 div.sk-toggleable {background-color: white;}#sk-container-id-2 label.sk-toggleable__label {cursor: pointer;display: block;width: 100%;margin-bottom: 0;padding: 0.3em;box-sizing: border-box;text-align: center;}#sk-container-id-2 label.sk-toggleable__label-arrow:before {content: \"▸\";float: left;margin-right: 0.25em;color: #696969;}#sk-container-id-2 label.sk-toggleable__label-arrow:hover:before {color: black;}#sk-container-id-2 div.sk-estimator:hover label.sk-toggleable__label-arrow:before {color: black;}#sk-container-id-2 div.sk-toggleable__content {max-height: 0;max-width: 0;overflow: hidden;text-align: left;background-color: #f0f8ff;}#sk-container-id-2 div.sk-toggleable__content pre {margin: 0.2em;color: black;border-radius: 0.25em;background-color: #f0f8ff;}#sk-container-id-2 input.sk-toggleable__control:checked~div.sk-toggleable__content {max-height: 200px;max-width: 100%;overflow: auto;}#sk-container-id-2 input.sk-toggleable__control:checked~label.sk-toggleable__label-arrow:before {content: \"▾\";}#sk-container-id-2 div.sk-estimator input.sk-toggleable__control:checked~label.sk-toggleable__label {background-color: #d4ebff;}#sk-container-id-2 div.sk-label input.sk-toggleable__control:checked~label.sk-toggleable__label {background-color: #d4ebff;}#sk-container-id-2 input.sk-hidden--visually {border: 0;clip: rect(1px 1px 1px 1px);clip: rect(1px, 1px, 1px, 1px);height: 1px;margin: -1px;overflow: hidden;padding: 0;position: absolute;width: 1px;}#sk-container-id-2 div.sk-estimator {font-family: monospace;background-color: #f0f8ff;border: 1px dotted black;border-radius: 0.25em;box-sizing: border-box;margin-bottom: 0.5em;}#sk-container-id-2 div.sk-estimator:hover {background-color: #d4ebff;}#sk-container-id-2 div.sk-parallel-item::after {content: \"\";width: 100%;border-bottom: 1px solid gray;flex-grow: 1;}#sk-container-id-2 div.sk-label:hover label.sk-toggleable__label {background-color: #d4ebff;}#sk-container-id-2 div.sk-serial::before {content: \"\";position: absolute;border-left: 1px solid gray;box-sizing: border-box;top: 0;bottom: 0;left: 50%;z-index: 0;}#sk-container-id-2 div.sk-serial {display: flex;flex-direction: column;align-items: center;background-color: white;padding-right: 0.2em;padding-left: 0.2em;position: relative;}#sk-container-id-2 div.sk-item {position: relative;z-index: 1;}#sk-container-id-2 div.sk-parallel {display: flex;align-items: stretch;justify-content: center;background-color: white;position: relative;}#sk-container-id-2 div.sk-item::before, #sk-container-id-2 div.sk-parallel-item::before {content: \"\";position: absolute;border-left: 1px solid gray;box-sizing: border-box;top: 0;bottom: 0;left: 50%;z-index: -1;}#sk-container-id-2 div.sk-parallel-item {display: flex;flex-direction: column;z-index: 1;position: relative;background-color: white;}#sk-container-id-2 div.sk-parallel-item:first-child::after {align-self: flex-end;width: 50%;}#sk-container-id-2 div.sk-parallel-item:last-child::after {align-self: flex-start;width: 50%;}#sk-container-id-2 div.sk-parallel-item:only-child::after {width: 0;}#sk-container-id-2 div.sk-dashed-wrapped {border: 1px dashed gray;margin: 0 0.4em 0.5em 0.4em;box-sizing: border-box;padding-bottom: 0.4em;background-color: white;}#sk-container-id-2 div.sk-label label {font-family: monospace;font-weight: bold;display: inline-block;line-height: 1.2em;}#sk-container-id-2 div.sk-label-container {text-align: center;}#sk-container-id-2 div.sk-container {/* jupyter's `normalize.less` sets `[hidden] { display: none; }` but bootstrap.min.css set `[hidden] { display: none !important; }` so we also need the `!important` here to be able to override the default hidden behavior on the sphinx rendered scikit-learn.org. See: https://github.com/scikit-learn/scikit-learn/issues/21755 */display: inline-block !important;position: relative;}#sk-container-id-2 div.sk-text-repr-fallback {display: none;}</style><div id=\"sk-container-id-2\" class=\"sk-top-container\"><div class=\"sk-text-repr-fallback\"><pre>LinearRegression()</pre><b>In a Jupyter environment, please rerun this cell to show the HTML representation or trust the notebook. <br />On GitHub, the HTML representation is unable to render, please try loading this page with nbviewer.org.</b></div><div class=\"sk-container\" hidden><div class=\"sk-item\"><div class=\"sk-estimator sk-toggleable\"><input class=\"sk-toggleable__control sk-hidden--visually\" id=\"sk-estimator-id-2\" type=\"checkbox\" checked><label for=\"sk-estimator-id-2\" class=\"sk-toggleable__label sk-toggleable__label-arrow\">LinearRegression</label><div class=\"sk-toggleable__content\"><pre>LinearRegression()</pre></div></div></div></div></div>"
      ],
      "text/plain": [
       "LinearRegression()"
      ]
     },
     "execution_count": 44,
     "metadata": {},
     "output_type": "execute_result"
    }
   ],
   "source": [
    "lr_model = LinearRegression()\n",
    "lr_model.fit(X_train, y_train)"
   ]
  },
  {
   "cell_type": "code",
   "execution_count": 45,
   "id": "72876151",
   "metadata": {},
   "outputs": [],
   "source": [
    "y_pred = lr_model.predict(X_test)"
   ]
  },
  {
   "cell_type": "markdown",
   "id": "908b34c9",
   "metadata": {},
   "source": [
    "### Evaluating Model Performance"
   ]
  },
  {
   "cell_type": "code",
   "execution_count": 46,
   "id": "71a17882",
   "metadata": {},
   "outputs": [
    {
     "name": "stdout",
     "output_type": "stream",
     "text": [
      "Mean Absolute Error: 25885.16379013769\n"
     ]
    }
   ],
   "source": [
    "mae = mean_absolute_error(y_test,y_pred)\n",
    "print(f\"Mean Absolute Error: {mae}\")"
   ]
  },
  {
   "cell_type": "code",
   "execution_count": 51,
   "id": "6741f9dc",
   "metadata": {},
   "outputs": [
    {
     "name": "stdout",
     "output_type": "stream",
     "text": [
      "Mean Squared Error: 1627527647.4935417\n",
      "Root Mean Squared Error: 40342.62816790128\n"
     ]
    }
   ],
   "source": [
    "mse = mean_squared_error(y_test, y_pred)\n",
    "rmse = np.sqrt(mse)\n",
    "print(f\"Mean Squared Error: {mse}\")\n",
    "print(f\"Root Mean Squared Error: {rmse}\")"
   ]
  },
  {
   "cell_type": "code",
   "execution_count": 50,
   "id": "622ee0c3",
   "metadata": {},
   "outputs": [
    {
     "name": "stdout",
     "output_type": "stream",
     "text": [
      "R^2 Score 0.7970043133487983\n"
     ]
    }
   ],
   "source": [
    "r2 = r2_score(y_test, y_pred)\n",
    "print(f\"R^2 Score {r2}\")"
   ]
  },
  {
   "cell_type": "markdown",
   "id": "4d35da0d",
   "metadata": {},
   "source": [
    "### Visualise Predictions vs Actual Prices"
   ]
  },
  {
   "cell_type": "code",
   "execution_count": 53,
   "id": "2596c045",
   "metadata": {},
   "outputs": [
    {
     "data": {
      "image/png": "[encoded data removed]",
      "text/plain": [
       "<Figure size 1000x600 with 1 Axes>"
      ]
     },
     "metadata": {},
     "output_type": "display_data"
    }
   ],
   "source": [
    "plt.figure(figsize= (10, 6))\n",
    "sns.scatterplot(x=y_test, y=y_pred)\n",
    "plt.xlabel(\"Actual Sale Prices\")\n",
    "plt.ylabel(\"Predicted Sale Prices\")\n",
    "plt.title(\"Actual vs Predicted Sale Prices\")\n",
    "plt.show()"
   ]
  },
  {
   "cell_type": "markdown",
   "id": "dd074f0d",
   "metadata": {},
   "source": [
    "### Saving the model"
   ]
  },
  {
   "cell_type": "code",
   "execution_count": 54,
   "id": "cc95d57d",
   "metadata": {},
   "outputs": [
    {
     "data": {
      "text/plain": [
       "['linear_regression_model.pkl']"
      ]
     },
     "execution_count": 54,
     "metadata": {},
     "output_type": "execute_result"
    }
   ],
   "source": [
    "joblib.dump(lr_model, \"linear_regression_model.pkl\")"
   ]
  },
  {
   "cell_type": "markdown",
   "id": "6ded2f42",
   "metadata": {},
   "source": [
    "#### To load the model for future predictions"
   ]
  },
  {
   "cell_type": "code",
   "execution_count": 58,
   "id": "01fee1ed",
   "metadata": {},
   "outputs": [],
   "source": [
    "loaded_model = joblib.load(\"linear_regression_model.pkl\")\n",
    "new_predictions = loaded_model.predict(X_test)"
   ]
  }
 ],
 "metadata": {
  "kernelspec": {
   "display_name": "Python 3 (ipykernel)",
   "language": "python",
   "name": "python3"
  },
  "language_info": {
   "codemirror_mode": {
    "name": "ipython",
    "version": 3
   },
   "file_extension": ".py",
   "mimetype": "text/x-python",
   "name": "python",
   "nbconvert_exporter": "python",
   "pygments_lexer": "ipython3",
   "version": "3.11.5"
  }
 },
 "nbformat": 4,
 "nbformat_minor": 5
}
